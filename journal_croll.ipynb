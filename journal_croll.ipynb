{
 "cells": [
  {
   "cell_type": "code",
   "execution_count": 8,
   "metadata": {},
   "outputs": [],
   "source": [
    "def log_progress(sequence, every=None, size=None, name='Items'):\n",
    "    from ipywidgets import IntProgress, HTML, VBox\n",
    "    from IPython.display import display\n",
    "\n",
    "    is_iterator = False\n",
    "    if size is None:\n",
    "        try:\n",
    "            size = len(sequence)\n",
    "        except TypeError:\n",
    "            is_iterator = True\n",
    "    if size is not None:\n",
    "        if every is None:\n",
    "            if size <= 200:\n",
    "                every = 1\n",
    "            else:\n",
    "                every = int(size / 200)     # every 0.5%\n",
    "    else:\n",
    "        assert every is not None, 'sequence is iterator, set every'\n",
    "\n",
    "    if is_iterator:\n",
    "        progress = IntProgress(min=0, max=1, value=1)\n",
    "        progress.bar_style = 'info'\n",
    "    else:\n",
    "        progress = IntProgress(min=0, max=size, value=0)\n",
    "    label = HTML()\n",
    "    box = VBox(children=[label, progress])\n",
    "    display(box)\n",
    "\n",
    "    index = 0\n",
    "    try:\n",
    "        for index, record in enumerate(sequence, 1):\n",
    "            if index == 1 or index % every == 0:\n",
    "                if is_iterator:\n",
    "                    label.value = '{name}: {index} / ?'.format(\n",
    "                        name=name,\n",
    "                        index=index\n",
    "                    )\n",
    "                else:\n",
    "                    progress.value = index\n",
    "                    label.value = u'{name}: {index} / {size}'.format(\n",
    "                        name=name,\n",
    "                        index=index,\n",
    "                        size=size\n",
    "                    )\n",
    "            yield record\n",
    "    except:\n",
    "        progress.bar_style = 'danger'\n",
    "        raise\n",
    "    else:\n",
    "        progress.bar_style = 'success'\n",
    "        progress.value = index\n",
    "        label.value = \"{name}: {index}\".format(\n",
    "            name=name,\n",
    "            index=str(index or '?')\n",
    "        )"
   ]
  },
  {
   "cell_type": "code",
   "execution_count": 9,
   "metadata": {},
   "outputs": [],
   "source": [
    "##크롤링 대상 사이트 : https://www.computer.org (IEEE)\n",
    "\n",
    "#사용할 라이브러리\n",
    "\n",
    "import numpy as np\n",
    "import pandas as pd\n",
    "import requests\n",
    "from bs4 import BeautifulSoup as bs\n",
    "from multiprocessing import Pool, Array, Process\n",
    "import time\n"
   ]
  },
  {
   "cell_type": "code",
   "execution_count": 10,
   "metadata": {},
   "outputs": [],
   "source": [
    "#url 크롤링하는 함수 정의\n",
    "\n",
    "def croll_link(next_url,link_name):\n",
    "    req = requests.get('https://www.computer.org'+next_url)\n",
    "    soup = bs(req.text, 'html.parser')\n",
    "    next_r_url = soup.select(link_name)\n",
    "    \n",
    "    parsed = [] \n",
    "    for i in range(0,len(next_r_url)):\n",
    "        parsed.append(next_r_url[i].get(\"href\")) #url 추출해서 list에 append\n",
    "    \n",
    "    return parsed #list 반환"
   ]
  },
  {
   "cell_type": "code",
   "execution_count": 11,
   "metadata": {},
   "outputs": [
    {
     "name": "stdout",
     "output_type": "stream",
     "text": [
      "20.603402137756348\n"
     ]
    }
   ],
   "source": [
    "#크롤링 - site에서는 주제-연도-달(2-3달)-내용 으로 되어있음\n",
    "\n",
    "start = time.time()\n",
    "\n",
    "# computer science subject link croll\n",
    "transactionLinks = croll_link('/csdl','a.transactionLink')\n",
    "\n",
    "# subject -> volume(year)\n",
    "volumeLinks = croll_link(transactionLinks[0],'a.volumeLink')\n",
    "\n",
    "# volume -> issue(months)\n",
    "issueLinks = croll_link(volumeLinks[0],'a.issueLink')\n",
    "\n",
    "# issue -> contents\n",
    "abstractLinks = croll_link(issueLinks[0],'div.col-xs-12 > div > div > div > button > a') # contents\n",
    "\n",
    "# abstractLinks에서 html만 추출 (javascript와 pdf도 태그가 같았기에 soup로 구분하지 못했음)\n",
    "new_absLinks = []\n",
    "for i in range(0,len(abstractLinks)):\n",
    "    if(abstractLinks[i][-8:] == 'abs.html'):\n",
    "        new_absLinks.append(abstractLinks[i])\n",
    "        \n",
    "close = time.time()\n",
    "\n",
    "print(close-start)\n"
   ]
  },
  {
   "cell_type": "code",
   "execution_count": 12,
   "metadata": {},
   "outputs": [],
   "source": [
    "abstractLinks = new_absLinks\n",
    "new_absLinks = []\n",
    "\n",
    "#abstractLinks"
   ]
  },
  {
   "cell_type": "code",
   "execution_count": 13,
   "metadata": {},
   "outputs": [],
   "source": [
    "#contents\n",
    "req = requests.get('https://www.computer.org'+abstractLinks[1])\n",
    "soup = bs(req.text, 'html.parser')"
   ]
  },
  {
   "cell_type": "code",
   "execution_count": 14,
   "metadata": {},
   "outputs": [
    {
     "data": {
      "text/plain": [
       "'Simulating the Large-Scale Erosion of Genomic Privacy Over Time'"
      ]
     },
     "execution_count": 14,
     "metadata": {},
     "output_type": "execute_result"
    }
   ],
   "source": [
    "#title 크롤링\n",
    "abs_title = (soup.select('div.abstractTitle > a > h2')[0].text) # title 추출\n",
    "abs_title"
   ]
  },
  {
   "cell_type": "code",
   "execution_count": 15,
   "metadata": {},
   "outputs": [
    {
     "data": {
      "text/plain": [
       "'2018/05'"
      ]
     },
     "execution_count": 15,
     "metadata": {},
     "output_type": "execute_result"
    }
   ],
   "source": [
    "# url에 date내용이 들어있음\n",
    "abs_yymm = abstractLinks[1][15:22]\n",
    "abs_yymm"
   ]
  },
  {
   "cell_type": "code",
   "execution_count": 16,
   "metadata": {},
   "outputs": [],
   "source": [
    "#contents 크롤링\n",
    "abs_contents = soup.select('div.abstractText.abstractTextMB')[0].text\n",
    "#abs_contents"
   ]
  },
  {
   "cell_type": "markdown",
   "metadata": {},
   "source": [
    "\n",
    "## Data set 늘리기\n"
   ]
  },
  {
   "cell_type": "code",
   "execution_count": 17,
   "metadata": {},
   "outputs": [],
   "source": [
    "# Month를 다 합쳐봄 - volume은 같음\n",
    "# 다 하면 너무 많을 것 같아서 일단 issue(month)만 합쳤음\n",
    "\n",
    "total_absLink = []\n",
    "for i in range(0,len(issueLinks)):\n",
    "    total_absLink += croll_link(issueLinks[i],'div.col-xs-12 > div > div > div > button > a')\n",
    "\n",
    "#total_absLink"
   ]
  },
  {
   "cell_type": "code",
   "execution_count": 18,
   "metadata": {},
   "outputs": [],
   "source": [
    "final_absLink = []\n",
    "for i in range(0,len(total_absLink)):\n",
    "    if(total_absLink[i][-8:] == 'abs.html'):\n",
    "        final_absLink.append(total_absLink[i])\n",
    "#final_absLink"
   ]
  },
  {
   "cell_type": "code",
   "execution_count": 22,
   "metadata": {},
   "outputs": [
    {
     "name": "stdout",
     "output_type": "stream",
     "text": [
      "75.53028893470764\n"
     ]
    }
   ],
   "source": [
    "from datetime import datetime\n",
    "\n",
    "now = str(datetime.now())[0:19]\n",
    "start = time.time()\n",
    "def croll_abs(link):\n",
    "    req = requests.get('https://www.computer.org'+link)\n",
    "    soup = bs(req.text, 'html.parser')\n",
    "    journal = {}\n",
    "    journal['title'] = soup.select('div.abstractTitle > a > h2')[0].text\n",
    "    journal['abstract'] = soup.select('div.abstractText.abstractTextMB')[0].text\n",
    "    journal['date'] = link[15:22]\n",
    "  \n",
    "    filename = (\"./\"+\"%s\"+\"_output.txt\") % now\n",
    "    with open(filename, 'a') as f:\n",
    "    #for data in journal_list:\n",
    "        o_data = \"%s\\t%s\\t%s\\n\" % (journal['date'], journal['title'],journal['abstract'])\n",
    "        f.write(o_data)\n",
    "\n",
    "pool = Pool(processes=4)\n",
    "p = pool.map(croll_abs,final_absLink)\n",
    "\n",
    "close = time.time()\n",
    "print(close-start)"
   ]
  },
  {
   "cell_type": "code",
   "execution_count": 39,
   "metadata": {},
   "outputs": [
    {
     "data": {
      "text/html": [
       "<div>\n",
       "<style scoped>\n",
       "    .dataframe tbody tr th:only-of-type {\n",
       "        vertical-align: middle;\n",
       "    }\n",
       "\n",
       "    .dataframe tbody tr th {\n",
       "        vertical-align: top;\n",
       "    }\n",
       "\n",
       "    .dataframe thead th {\n",
       "        text-align: right;\n",
       "    }\n",
       "</style>\n",
       "<table border=\"1\" class=\"dataframe\">\n",
       "  <thead>\n",
       "    <tr style=\"text-align: right;\">\n",
       "      <th></th>\n",
       "      <th>Date</th>\n",
       "      <th>Title</th>\n",
       "      <th>Contents</th>\n",
       "    </tr>\n",
       "  </thead>\n",
       "  <tbody>\n",
       "    <tr>\n",
       "      <th>0</th>\n",
       "      <td>2018/05</td>\n",
       "      <td>GenoPri'16: International Workshop on Genome P...</td>\n",
       "      <td></td>\n",
       "    </tr>\n",
       "    <tr>\n",
       "      <th>1</th>\n",
       "      <td>2018/05</td>\n",
       "      <td>Simulating the Large-Scale Erosion of Genomic ...</td>\n",
       "      <td>The dramatically decreasing costs of DNA seque...</td>\n",
       "    </tr>\n",
       "    <tr>\n",
       "      <th>2</th>\n",
       "      <td>2018/05</td>\n",
       "      <td>Protecting Privacy and Security of Genomic Dat...</td>\n",
       "      <td>Re-use of patients’ health records can provide...</td>\n",
       "    </tr>\n",
       "    <tr>\n",
       "      <th>3</th>\n",
       "      <td>2018/05</td>\n",
       "      <td>Implementation and Evaluation of an Algorithm ...</td>\n",
       "      <td>We improve the quality of cryptographically pr...</td>\n",
       "    </tr>\n",
       "    <tr>\n",
       "      <th>4</th>\n",
       "      <td>2018/05</td>\n",
       "      <td>Guest Editorial for Special Section on the 12t...</td>\n",
       "      <td></td>\n",
       "    </tr>\n",
       "    <tr>\n",
       "      <th>5</th>\n",
       "      <td>2018/05</td>\n",
       "      <td>Identification and Analysis of Key Residues in...</td>\n",
       "      <td>Protein–RNA complexes play important roles in ...</td>\n",
       "    </tr>\n",
       "    <tr>\n",
       "      <th>6</th>\n",
       "      <td>2018/05</td>\n",
       "      <td>Unified Deep Learning Architecture for Modelin...</td>\n",
       "      <td>Prediction of the spatial structure or functio...</td>\n",
       "    </tr>\n",
       "    <tr>\n",
       "      <th>7</th>\n",
       "      <td>2018/05</td>\n",
       "      <td>Mutli-Features Prediction of Protein Translati...</td>\n",
       "      <td>Post translational modification plays a signif...</td>\n",
       "    </tr>\n",
       "    <tr>\n",
       "      <th>8</th>\n",
       "      <td>2018/05</td>\n",
       "      <td>Sequence-Based Prediction of Putative Transcri...</td>\n",
       "      <td>A transcription factor (TF) is a protein that ...</td>\n",
       "    </tr>\n",
       "    <tr>\n",
       "      <th>9</th>\n",
       "      <td>2018/05</td>\n",
       "      <td>Prediction of Hot Regions in PPIs Based on Imp...</td>\n",
       "      <td>The hot regions in PPIs are some assembly regi...</td>\n",
       "    </tr>\n",
       "  </tbody>\n",
       "</table>\n",
       "</div>"
      ],
      "text/plain": [
       "      Date                                              Title  \\\n",
       "0  2018/05  GenoPri'16: International Workshop on Genome P...   \n",
       "1  2018/05  Simulating the Large-Scale Erosion of Genomic ...   \n",
       "2  2018/05  Protecting Privacy and Security of Genomic Dat...   \n",
       "3  2018/05  Implementation and Evaluation of an Algorithm ...   \n",
       "4  2018/05  Guest Editorial for Special Section on the 12t...   \n",
       "5  2018/05  Identification and Analysis of Key Residues in...   \n",
       "6  2018/05  Unified Deep Learning Architecture for Modelin...   \n",
       "7  2018/05  Mutli-Features Prediction of Protein Translati...   \n",
       "8  2018/05  Sequence-Based Prediction of Putative Transcri...   \n",
       "9  2018/05  Prediction of Hot Regions in PPIs Based on Imp...   \n",
       "\n",
       "                                            Contents  \n",
       "0                                                     \n",
       "1  The dramatically decreasing costs of DNA seque...  \n",
       "2  Re-use of patients’ health records can provide...  \n",
       "3  We improve the quality of cryptographically pr...  \n",
       "4                                                     \n",
       "5  Protein–RNA complexes play important roles in ...  \n",
       "6  Prediction of the spatial structure or functio...  \n",
       "7  Post translational modification plays a signif...  \n",
       "8  A transcription factor (TF) is a protein that ...  \n",
       "9  The hot regions in PPIs are some assembly regi...  "
      ]
     },
     "execution_count": 39,
     "metadata": {},
     "output_type": "execute_result"
    }
   ],
   "source": [
    "#data frame 만들기 - 총 175 rows\n",
    "data = { 'Date':date, 'Title':title,'Contents':contents}\n",
    "\n",
    "frame = pd.DataFrame(data)\n",
    "frame"
   ]
  },
  {
   "cell_type": "code",
   "execution_count": 40,
   "metadata": {},
   "outputs": [],
   "source": [
    "#data frame을 파일로 저장\n",
    "frame.to_csv(\"data.csv\",header=False,index=True)"
   ]
  },
  {
   "cell_type": "code",
   "execution_count": 42,
   "metadata": {},
   "outputs": [
    {
     "data": {
      "text/plain": [
       "\"The dramatically decreasing costs of DNA sequencing have triggered more than a million humans to have their genotypes sequenced. Moreover, these individuals increasingly make their genomic data publicly available, thereby creating privacy threats for themselves and their relatives because of their DNA similarities. More generally, an entity that gains access to a significant fraction of sequenced genotypes might be able to infer even the genomes of unsequenced individuals. In this paper, we propose a simulation-based model for quantifying the impact of continuously sequencing and publicizing personal genomic data on a population's genomic privacy. Our simulation probabilistically models data sharing and takes into account events such as migration and interracial mating. We exemplarily instantiate our simulation with a sample population of 1,000 individuals and evaluate the privacy under multiple settings over 6,000 genomic variants and a subset of phenotype-related variants. Our findings demonstrate that an increasing sharing rate in the future entails a substantial negative effect on the privacy of all older generations. Moreover, we find that mixed populations face a less severe erosion of privacy over time than more homogeneous populations. Finally, we demonstrate that genomic-data sharing can be much more detrimental for the privacy of the phenotype-related variants.\""
      ]
     },
     "execution_count": 42,
     "metadata": {},
     "output_type": "execute_result"
    }
   ],
   "source": [
    "frame['Contents'][1]"
   ]
  }
 ],
 "metadata": {
  "kernelspec": {
   "display_name": "Python 3",
   "language": "python",
   "name": "python3"
  },
  "language_info": {
   "codemirror_mode": {
    "name": "ipython",
    "version": 3
   },
   "file_extension": ".py",
   "mimetype": "text/x-python",
   "name": "python",
   "nbconvert_exporter": "python",
   "pygments_lexer": "ipython3",
   "version": "3.6.5"
  }
 },
 "nbformat": 4,
 "nbformat_minor": 2
}
